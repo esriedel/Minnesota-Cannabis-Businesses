{
 "cells": [
  {
   "cell_type": "code",
   "execution_count": null,
   "id": "c60218b2-7ca7-4a6b-88a5-18ccd983f915",
   "metadata": {},
   "outputs": [],
   "source": [
    "import pandas as pd\n",
    "import numpy as py\n",
    "!pip3 install folium==0.19.2\n",
    "import folium\n",
    "!pip install geojson\n",
    "import geojson"
   ]
  },
  {
   "cell_type": "code",
   "execution_count": null,
   "id": "7b3f90de-1012-4f76-978e-99bb33a8db83",
   "metadata": {},
   "outputs": [],
   "source": [
    "#County boundary data obtained from Minnesota Geospatial Commons\n",
    "#Converted SHP files to geojson data using https://mygeodata.cloud/converter/shp-to-geojson\n",
    "#Need to reconfigure ipub rate in terminal:PS C:\\Users\\fh1808mi> jupyter notebook --ServerApp.iopub_data_rate_limit=10000000 --ServerApp.rate_limit_window=10\n",
    "\n",
    "import geojson\n",
    "\n",
    "with open('County_Boundaries_in_Minnesota.geojson', 'r') as f:\n",
    "    MNCounty_geo = geojson.load(f)\n",
    "\n",
    "print(f)"
   ]
  },
  {
   "cell_type": "code",
   "execution_count": null,
   "id": "80233841-0f42-4949-8342-f3f577dedfa8",
   "metadata": {},
   "outputs": [],
   "source": [
    "from folium import Map, Choropleth\n",
    "from branca.element import Template, MacroElement\n",
    "\n",
    "# Base map\n",
    "MN_map = Map(location=[46.7296, -94.6859], zoom_start=7)\n",
    "\n",
    "# Choropleth map\n",
    "Choropleth(\n",
    "    geo_data=MNCounty_geo,\n",
    "    data=countycann_df,\n",
    "    columns=['COUNTY_NAM', 'Total_CannBus'],  # Include matching column\n",
    "    key_on='feature.properties.COUNTY_NAM',  # Match key in geo_data\n",
    "    fill_color='YlGnBu',\n",
    "    fill_opacity=0.7,\n",
    "    line_opacity=1,\n",
    "    legend_name='Cannabis businesses by county'\n",
    ").add_to(MN_map)\n",
    "\n",
    "Custom CSS for centering the legend\n",
    "template = \"\"\"\n",
    "{% macro html(this, kwargs) %}\n",
    "<div style=\"position: fixed; \n",
    "            bottom: 50px; left: 50%; \n",
    "            transform: translateX(-50%);\n",
    "            z-index:9999; \n",
    "            font-size:14px;\n",
    "            background-color: rgba(255, 255, 255, 0.8);\n",
    "            padding: 10px;\n",
    "            border-radius: 5px;\">\n",
    "    <div style=\"font-weight: bold;\">{{ this.legend_title }}</div>\n",
    "    {{ this.legend_content }}\n",
    "</div>\n",
    "{% endmacro %}\n",
    "\"\"\"\n",
    "\n",
    "# Adding the template to the map\n",
    "legend = MacroElement()\n",
    "legend._template = Template(template)\n",
    "MN_map.get_root().add_child(legend)\n",
    "\n",
    "# Display map\n",
    "MN_map\n"
   ]
  }
 ],
 "metadata": {
  "kernelspec": {
   "display_name": "Python 3 (ipykernel)",
   "language": "python",
   "name": "python3"
  },
  "language_info": {
   "codemirror_mode": {
    "name": "ipython",
    "version": 3
   },
   "file_extension": ".py",
   "mimetype": "text/x-python",
   "name": "python",
   "nbconvert_exporter": "python",
   "pygments_lexer": "ipython3",
   "version": "3.12.4"
  }
 },
 "nbformat": 4,
 "nbformat_minor": 5
}
